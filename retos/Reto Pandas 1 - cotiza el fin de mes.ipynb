{
 "cells": [
  {
   "cell_type": "markdown",
   "metadata": {
    "ExecuteTime": {
     "end_time": "2020-02-09T20:33:28.734309Z",
     "start_time": "2020-02-09T20:33:28.732194Z"
    }
   },
   "source": [
    "# Reto Pandas 1\n",
    "\n"
   ]
  },
  {
   "cell_type": "markdown",
   "metadata": {},
   "source": [
    "Texto del reto propuesto en el grupo de telegram Python para Tranding:\n",
    "\n",
    "Buenos días. Os propongo un reto / ejercicio de Pandas, para quien quiera practicar y mejorar.\n",
    "\n",
    "con el dataframe data que obtenemos con este código\n",
    "\n",
    "    # Si no está instalado el módulo yfinance puedes hacerlo con \n",
    "    # pip install yfinance\n",
    "\n",
    "    import yfinance as yf\n",
    "    data = yf.download('^GSPC')\n",
    "\n",
    "\n",
    "Añadir una nueva columna donde el valor sea 1 los días en que el mes al que pertenece tuvo cotización el último día natural de ese mes, y -1 si no hubo cotización, por vacaciones o fin de semanas.\n",
    "\n",
    "Así por ejemplo todos los días de cotización del mes de enero de 2020, llevarían un 1, mientras que los días de noviembre de 2019, llevarían un -1.\n",
    "\n",
    "Hay varías formas de conseguir esto, veamos cual nos gusta más. Obviamente se puede hacer sin bucles usando pandas 😁😉"
   ]
  },
  {
   "cell_type": "code",
   "execution_count": null,
   "metadata": {},
   "outputs": [],
   "source": []
  },
  {
   "cell_type": "markdown",
   "metadata": {
    "ExecuteTime": {
     "end_time": "2020-02-09T20:35:40.098319Z",
     "start_time": "2020-02-09T20:35:40.096450Z"
    }
   },
   "source": [
    "## Código base"
   ]
  },
  {
   "cell_type": "code",
   "execution_count": 5,
   "metadata": {
    "ExecuteTime": {
     "end_time": "2020-02-09T20:21:19.401445Z",
     "start_time": "2020-02-09T20:21:18.754667Z"
    }
   },
   "outputs": [
    {
     "name": "stdout",
     "output_type": "stream",
     "text": [
      "[*********************100%***********************]  1 of 1 completed\n"
     ]
    }
   ],
   "source": [
    "# Si no está instalado el módulo yfinance puedes hacerlo con \n",
    "# pip install yfinance\n",
    "\n",
    "import yfinance as yf\n",
    "import pandas as pd\n",
    "data_base = yf.download('^GSPC')"
   ]
  },
  {
   "cell_type": "code",
   "execution_count": null,
   "metadata": {},
   "outputs": [],
   "source": []
  },
  {
   "cell_type": "markdown",
   "metadata": {},
   "source": [
    "# Propuestas :"
   ]
  },
  {
   "cell_type": "markdown",
   "metadata": {},
   "source": [
    "## Pau @pauet7 - 1ª "
   ]
  },
  {
   "cell_type": "code",
   "execution_count": 2,
   "metadata": {
    "ExecuteTime": {
     "end_time": "2020-02-09T20:20:32.655909Z",
     "start_time": "2020-02-09T20:20:32.650578Z"
    }
   },
   "outputs": [],
   "source": [
    "import calendar\n",
    "import datetime\n",
    "data = data_base.copy()"
   ]
  },
  {
   "cell_type": "code",
   "execution_count": 3,
   "metadata": {
    "ExecuteTime": {
     "end_time": "2020-02-09T20:20:38.590228Z",
     "start_time": "2020-02-09T20:20:33.469115Z"
    }
   },
   "outputs": [
    {
     "name": "stdout",
     "output_type": "stream",
     "text": [
      "643 ms ± 19.1 ms per loop (mean ± std. dev. of 7 runs, 1 loop each)\n"
     ]
    }
   ],
   "source": [
    "%%timeit\n",
    "data['last_open_day'] = data.index.map(lambda x: datetime.datetime(x.year, x.month, calendar.monthrange(x.year, x.month)[1]))\n",
    "data['signal'] = data.apply(lambda x: 1 if x['last_open_day'] in data.index else -1, axis=1)"
   ]
  },
  {
   "cell_type": "code",
   "execution_count": 4,
   "metadata": {
    "ExecuteTime": {
     "end_time": "2020-02-09T20:20:51.790571Z",
     "start_time": "2020-02-09T20:20:51.780840Z"
    }
   },
   "outputs": [
    {
     "data": {
      "text/plain": [
       "Date\n",
       "1927-12-30   -1\n",
       "1928-01-03    1\n",
       "1928-01-04    1\n",
       "1928-01-05    1\n",
       "1928-01-06    1\n",
       "             ..\n",
       "2020-02-03   -1\n",
       "2020-02-04   -1\n",
       "2020-02-05   -1\n",
       "2020-02-06   -1\n",
       "2020-02-07   -1\n",
       "Name: signal, Length: 23135, dtype: int64"
      ]
     },
     "execution_count": 4,
     "metadata": {},
     "output_type": "execute_result"
    }
   ],
   "source": [
    "data['signal']"
   ]
  },
  {
   "cell_type": "markdown",
   "metadata": {},
   "source": [
    "## Pau @pauet7 -  2ª"
   ]
  },
  {
   "cell_type": "code",
   "execution_count": 12,
   "metadata": {},
   "outputs": [],
   "source": [
    "data = data_base.copy()"
   ]
  },
  {
   "cell_type": "code",
   "execution_count": 8,
   "metadata": {
    "ExecuteTime": {
     "end_time": "2020-02-09T20:22:17.985047Z",
     "start_time": "2020-02-09T20:22:13.752217Z"
    }
   },
   "outputs": [
    {
     "name": "stdout",
     "output_type": "stream",
     "text": [
      "531 ms ± 19.5 ms per loop (mean ± std. dev. of 7 runs, 1 loop each)\n"
     ]
    }
   ],
   "source": [
    "%%timeit\n",
    "data['last_open_day'] = data.index.map(lambda x: pd.to_datetime(x) + pd.tseries.offsets.MonthEnd(0))\n",
    "data['signal'] = data.apply(lambda x: 1 if x['last_open_day'] in data.index else -1, axis=1)"
   ]
  },
  {
   "cell_type": "code",
   "execution_count": 9,
   "metadata": {
    "ExecuteTime": {
     "end_time": "2020-02-09T20:22:32.347293Z",
     "start_time": "2020-02-09T20:22:32.340669Z"
    }
   },
   "outputs": [
    {
     "data": {
      "text/plain": [
       "Date\n",
       "1927-12-30   -1\n",
       "1928-01-03    1\n",
       "1928-01-04    1\n",
       "1928-01-05    1\n",
       "1928-01-06    1\n",
       "             ..\n",
       "2020-02-03   -1\n",
       "2020-02-04   -1\n",
       "2020-02-05   -1\n",
       "2020-02-06   -1\n",
       "2020-02-07   -1\n",
       "Name: signal, Length: 23135, dtype: int64"
      ]
     },
     "execution_count": 9,
     "metadata": {},
     "output_type": "execute_result"
    }
   ],
   "source": [
    "data['signal']"
   ]
  },
  {
   "cell_type": "code",
   "execution_count": 7,
   "metadata": {},
   "outputs": [],
   "source": [
    "data = data_base.copy()"
   ]
  },
  {
   "cell_type": "code",
   "execution_count": 19,
   "metadata": {},
   "outputs": [
    {
     "name": "stdout",
     "output_type": "stream",
     "text": [
      "543 ms ± 17.6 ms per loop (mean ± std. dev. of 7 runs, 1 loop each)\n"
     ]
    }
   ],
   "source": [
    "%%timeit \n",
    "data['last_open_day'] = data.index.map(lambda x: pd.to_datetime(x) + pd.tseries.offsets.MonthEnd(0))\n",
    "data['signal'] = data.apply(lambda x: 1 if x['last_open_day'] in data.index else -1, axis=1)"
   ]
  },
  {
   "cell_type": "code",
   "execution_count": null,
   "metadata": {},
   "outputs": [],
   "source": []
  },
  {
   "cell_type": "markdown",
   "metadata": {},
   "source": [
    "## Antonio A @init_S - 1ª"
   ]
  },
  {
   "cell_type": "code",
   "execution_count": 10,
   "metadata": {
    "ExecuteTime": {
     "end_time": "2020-02-09T20:24:01.976288Z",
     "start_time": "2020-02-09T20:24:01.973453Z"
    }
   },
   "outputs": [],
   "source": [
    "data = data_base.copy()"
   ]
  },
  {
   "cell_type": "code",
   "execution_count": 11,
   "metadata": {
    "ExecuteTime": {
     "end_time": "2020-02-09T20:25:30.966127Z",
     "start_time": "2020-02-09T20:24:10.678474Z"
    }
   },
   "outputs": [],
   "source": [
    "data.loc[:,'rounded_time'] = data.index.to_period('M')\n",
    "data.loc[:, 'signal'] = data['rounded_time'].apply(lambda x: 1 if x in data[data.index.is_month_end].index.to_period('M') else -1)"
   ]
  },
  {
   "cell_type": "code",
   "execution_count": 15,
   "metadata": {
    "ExecuteTime": {
     "end_time": "2020-02-09T20:25:59.672111Z",
     "start_time": "2020-02-09T20:25:59.667521Z"
    }
   },
   "outputs": [
    {
     "data": {
      "text/plain": [
       "Date\n",
       "1927-12-30   -1\n",
       "1928-01-03    1\n",
       "1928-01-04    1\n",
       "1928-01-05    1\n",
       "1928-01-06    1\n",
       "             ..\n",
       "2020-02-03   -1\n",
       "2020-02-04   -1\n",
       "2020-02-05   -1\n",
       "2020-02-06   -1\n",
       "2020-02-07   -1\n",
       "Name: signal, Length: 23135, dtype: int64"
      ]
     },
     "execution_count": 15,
     "metadata": {},
     "output_type": "execute_result"
    }
   ],
   "source": [
    "data['signal']"
   ]
  },
  {
   "cell_type": "code",
   "execution_count": null,
   "metadata": {},
   "outputs": [],
   "source": []
  },
  {
   "cell_type": "markdown",
   "metadata": {},
   "source": [
    "## Antonio A @init_S - 2ª"
   ]
  },
  {
   "cell_type": "code",
   "execution_count": 13,
   "metadata": {
    "ExecuteTime": {
     "end_time": "2020-02-09T20:25:48.631668Z",
     "start_time": "2020-02-09T20:25:48.628615Z"
    }
   },
   "outputs": [],
   "source": [
    "import numpy as np\n",
    "data = data_base.copy()"
   ]
  },
  {
   "cell_type": "code",
   "execution_count": 14,
   "metadata": {
    "ExecuteTime": {
     "end_time": "2020-02-09T20:25:54.548875Z",
     "start_time": "2020-02-09T20:25:49.541486Z"
    }
   },
   "outputs": [
    {
     "name": "stdout",
     "output_type": "stream",
     "text": [
      "61.9 ms ± 535 µs per loop (mean ± std. dev. of 7 runs, 10 loops each)\n"
     ]
    }
   ],
   "source": [
    "%%timeit \n",
    "data.loc[:,'rounded_time'] = data.index.to_period('M')\n",
    "data.loc[:, 'signal'] = np.where(data['rounded_time'].isin(data[data.index.is_month_end].index.to_period('M')), 1, -1)"
   ]
  },
  {
   "cell_type": "code",
   "execution_count": 16,
   "metadata": {
    "ExecuteTime": {
     "end_time": "2020-02-09T20:26:04.188417Z",
     "start_time": "2020-02-09T20:26:04.182226Z"
    }
   },
   "outputs": [
    {
     "data": {
      "text/plain": [
       "Date\n",
       "1927-12-30   -1\n",
       "1928-01-03    1\n",
       "1928-01-04    1\n",
       "1928-01-05    1\n",
       "1928-01-06    1\n",
       "             ..\n",
       "2020-02-03   -1\n",
       "2020-02-04   -1\n",
       "2020-02-05   -1\n",
       "2020-02-06   -1\n",
       "2020-02-07   -1\n",
       "Name: signal, Length: 23135, dtype: int64"
      ]
     },
     "execution_count": 16,
     "metadata": {},
     "output_type": "execute_result"
    }
   ],
   "source": [
    "data['signal']"
   ]
  },
  {
   "cell_type": "code",
   "execution_count": null,
   "metadata": {},
   "outputs": [],
   "source": []
  },
  {
   "cell_type": "markdown",
   "metadata": {},
   "source": [
    "## Dario @Bukosabino - 1ª"
   ]
  },
  {
   "cell_type": "code",
   "execution_count": 17,
   "metadata": {
    "ExecuteTime": {
     "end_time": "2020-02-09T20:26:17.038291Z",
     "start_time": "2020-02-09T20:26:17.035469Z"
    }
   },
   "outputs": [],
   "source": [
    "data = data_base.copy()"
   ]
  },
  {
   "cell_type": "code",
   "execution_count": 18,
   "metadata": {
    "ExecuteTime": {
     "end_time": "2020-02-09T20:26:26.443033Z",
     "start_time": "2020-02-09T20:26:18.949813Z"
    }
   },
   "outputs": [
    {
     "name": "stdout",
     "output_type": "stream",
     "text": [
      "9.29 ms ± 268 µs per loop (mean ± std. dev. of 7 runs, 100 loops each)\n"
     ]
    }
   ],
   "source": [
    "%%timeit\n",
    "last_day_month_market = data.groupby([data.index.year, data.index.month]).tail(1).index\n",
    "data['signal']=pd.DataFrame(index=last_day_month_market, \n",
    "                            data=last_day_month_market.is_month_end.astype(int)).reindex(data.index).fillna(method='backfill')[0]\n",
    "data['signal']=np.where(data['signal']==0,-1,data['signal'])"
   ]
  },
  {
   "cell_type": "code",
   "execution_count": 19,
   "metadata": {
    "ExecuteTime": {
     "end_time": "2020-02-09T20:26:26.450311Z",
     "start_time": "2020-02-09T20:26:26.445226Z"
    }
   },
   "outputs": [
    {
     "data": {
      "text/plain": [
       "Date\n",
       "1927-12-30   -1.0\n",
       "1928-01-03    1.0\n",
       "1928-01-04    1.0\n",
       "1928-01-05    1.0\n",
       "1928-01-06    1.0\n",
       "             ... \n",
       "2020-02-03   -1.0\n",
       "2020-02-04   -1.0\n",
       "2020-02-05   -1.0\n",
       "2020-02-06   -1.0\n",
       "2020-02-07   -1.0\n",
       "Name: signal, Length: 23135, dtype: float64"
      ]
     },
     "execution_count": 19,
     "metadata": {},
     "output_type": "execute_result"
    }
   ],
   "source": [
    "data['signal']"
   ]
  },
  {
   "cell_type": "code",
   "execution_count": null,
   "metadata": {},
   "outputs": [],
   "source": []
  },
  {
   "cell_type": "markdown",
   "metadata": {},
   "source": [
    "## Dario @Bukosabino - 2ª"
   ]
  },
  {
   "cell_type": "code",
   "execution_count": 20,
   "metadata": {
    "ExecuteTime": {
     "end_time": "2020-02-09T20:26:33.767729Z",
     "start_time": "2020-02-09T20:26:33.764875Z"
    }
   },
   "outputs": [],
   "source": [
    "data = data_base.copy()"
   ]
  },
  {
   "cell_type": "code",
   "execution_count": 21,
   "metadata": {
    "ExecuteTime": {
     "end_time": "2020-02-09T20:26:44.604543Z",
     "start_time": "2020-02-09T20:26:36.435229Z"
    }
   },
   "outputs": [
    {
     "name": "stdout",
     "output_type": "stream",
     "text": [
      "10.2 ms ± 752 µs per loop (mean ± std. dev. of 7 runs, 100 loops each)\n"
     ]
    }
   ],
   "source": [
    "%%timeit\n",
    "last_day_month_market = data.groupby([data.index.year, data.index.month]).tail(1).index\n",
    "data['signal']=pd.Series(index=last_day_month_market, data=last_day_month_market.is_month_end.astype(int)).reindex(data.index).fillna(method='backfill').values\n",
    "data['signal']=np.where(data['signal']==0,-1,data['signal'])"
   ]
  },
  {
   "cell_type": "code",
   "execution_count": 24,
   "metadata": {
    "ExecuteTime": {
     "end_time": "2020-02-09T20:27:27.145210Z",
     "start_time": "2020-02-09T20:27:27.140927Z"
    }
   },
   "outputs": [
    {
     "data": {
      "text/plain": [
       "Date\n",
       "1927-12-30   -1\n",
       "1928-01-03    1\n",
       "1928-01-04    1\n",
       "1928-01-05    1\n",
       "1928-01-06    1\n",
       "             ..\n",
       "2020-02-03   -1\n",
       "2020-02-04   -1\n",
       "2020-02-05   -1\n",
       "2020-02-06   -1\n",
       "2020-02-07   -1\n",
       "Name: signal, Length: 23135, dtype: int64"
      ]
     },
     "execution_count": 24,
     "metadata": {},
     "output_type": "execute_result"
    }
   ],
   "source": [
    "data['signal']"
   ]
  },
  {
   "cell_type": "code",
   "execution_count": null,
   "metadata": {},
   "outputs": [],
   "source": []
  },
  {
   "cell_type": "markdown",
   "metadata": {},
   "source": [
    "## Paduel @paduel - 1ª"
   ]
  },
  {
   "cell_type": "code",
   "execution_count": 22,
   "metadata": {
    "ExecuteTime": {
     "end_time": "2020-02-09T20:26:58.533431Z",
     "start_time": "2020-02-09T20:26:58.530895Z"
    }
   },
   "outputs": [],
   "source": [
    "data = data_base.copy()"
   ]
  },
  {
   "cell_type": "code",
   "execution_count": 23,
   "metadata": {
    "ExecuteTime": {
     "end_time": "2020-02-09T20:27:21.410212Z",
     "start_time": "2020-02-09T20:27:11.089543Z"
    }
   },
   "outputs": [
    {
     "name": "stdout",
     "output_type": "stream",
     "text": [
      "12.8 ms ± 1.34 ms per loop (mean ± std. dev. of 7 runs, 100 loops each)\n"
     ]
    }
   ],
   "source": [
    "%%timeit\n",
    "data['signal'] = data.index\n",
    "data['signal'] = data.signal.groupby([data.index.year, data.index.month]).transform('last').dt.is_month_end.mul(2).sub(1)"
   ]
  },
  {
   "cell_type": "code",
   "execution_count": 25,
   "metadata": {
    "ExecuteTime": {
     "end_time": "2020-02-09T20:27:48.770455Z",
     "start_time": "2020-02-09T20:27:37.970327Z"
    }
   },
   "outputs": [
    {
     "name": "stdout",
     "output_type": "stream",
     "text": [
      "13.5 ms ± 1.35 ms per loop (mean ± std. dev. of 7 runs, 100 loops each)\n"
     ]
    }
   ],
   "source": [
    "%%timeit\n",
    "data['signal'] = data.index.to_frame().Date.groupby([data.index.year, data.index.month]).transform('last').dt.is_month_end.mul(2).sub(1)"
   ]
  },
  {
   "cell_type": "code",
   "execution_count": 306,
   "metadata": {},
   "outputs": [
    {
     "data": {
      "text/plain": [
       "Date\n",
       "1927-12-30   -1\n",
       "1928-01-03    1\n",
       "1928-01-04    1\n",
       "1928-01-05    1\n",
       "1928-01-06    1\n",
       "             ..\n",
       "2020-02-03   -1\n",
       "2020-02-04   -1\n",
       "2020-02-05   -1\n",
       "2020-02-06   -1\n",
       "2020-02-07   -1\n",
       "Name: signal, Length: 23135, dtype: int64"
      ]
     },
     "execution_count": 306,
     "metadata": {},
     "output_type": "execute_result"
    }
   ],
   "source": [
    "data['signal']"
   ]
  },
  {
   "cell_type": "code",
   "execution_count": null,
   "metadata": {},
   "outputs": [],
   "source": []
  },
  {
   "cell_type": "markdown",
   "metadata": {},
   "source": [
    "## Paduel @paduel - 2ª"
   ]
  },
  {
   "cell_type": "code",
   "execution_count": 28,
   "metadata": {
    "ExecuteTime": {
     "end_time": "2020-02-09T20:29:34.499749Z",
     "start_time": "2020-02-09T20:29:34.496910Z"
    }
   },
   "outputs": [],
   "source": [
    "data = data_base.copy()"
   ]
  },
  {
   "cell_type": "code",
   "execution_count": 29,
   "metadata": {
    "ExecuteTime": {
     "end_time": "2020-02-09T20:29:42.366203Z",
     "start_time": "2020-02-09T20:29:35.085596Z"
    }
   },
   "outputs": [
    {
     "name": "stdout",
     "output_type": "stream",
     "text": [
      "8.97 ms ± 162 µs per loop (mean ± std. dev. of 7 runs, 100 loops each)\n"
     ]
    }
   ],
   "source": [
    "%%timeit\n",
    "_d = data.index.to_frame().groupby([data.index.year, data.index.month]).last().squeeze()\n",
    "data['signal'] = pd.Series(_d.dt.is_month_end.mul(2).sub(1).values, index=_d.values).reindex(data.index).bfill()"
   ]
  },
  {
   "cell_type": "code",
   "execution_count": 30,
   "metadata": {
    "ExecuteTime": {
     "end_time": "2020-02-09T20:29:42.372847Z",
     "start_time": "2020-02-09T20:29:42.367971Z"
    }
   },
   "outputs": [
    {
     "data": {
      "text/plain": [
       "Date\n",
       "1927-12-30   -1.0\n",
       "1928-01-03    1.0\n",
       "1928-01-04    1.0\n",
       "1928-01-05    1.0\n",
       "1928-01-06    1.0\n",
       "             ... \n",
       "2020-02-03   -1.0\n",
       "2020-02-04   -1.0\n",
       "2020-02-05   -1.0\n",
       "2020-02-06   -1.0\n",
       "2020-02-07   -1.0\n",
       "Name: signal, Length: 23135, dtype: float64"
      ]
     },
     "execution_count": 30,
     "metadata": {},
     "output_type": "execute_result"
    }
   ],
   "source": [
    "data['signal']"
   ]
  },
  {
   "cell_type": "code",
   "execution_count": null,
   "metadata": {},
   "outputs": [],
   "source": []
  },
  {
   "cell_type": "code",
   "execution_count": null,
   "metadata": {},
   "outputs": [],
   "source": []
  },
  {
   "cell_type": "markdown",
   "metadata": {
    "ExecuteTime": {
     "end_time": "2020-02-09T20:30:55.805524Z",
     "start_time": "2020-02-09T20:30:55.797010Z"
    }
   },
   "source": [
    "# Bonus"
   ]
  },
  {
   "cell_type": "markdown",
   "metadata": {},
   "source": [
    "Todos los métodos anteriores dan un -1 a los días del mes en curso cuando aún no tenemos datos para saber si el último día habrá o no cotización. Por lo que habría que añadir un código que corrigiera eso.\n",
    "A continuación una propuesta one liner que evita ese problema."
   ]
  },
  {
   "cell_type": "markdown",
   "metadata": {},
   "source": [
    "## Paduel @paduel 3º"
   ]
  },
  {
   "cell_type": "code",
   "execution_count": 31,
   "metadata": {
    "ExecuteTime": {
     "end_time": "2020-02-09T20:30:31.457873Z",
     "start_time": "2020-02-09T20:30:31.455272Z"
    }
   },
   "outputs": [],
   "source": [
    "data = data_base.copy()"
   ]
  },
  {
   "cell_type": "code",
   "execution_count": 36,
   "metadata": {
    "ExecuteTime": {
     "end_time": "2020-02-09T20:31:04.042758Z",
     "start_time": "2020-02-09T20:31:02.219288Z"
    }
   },
   "outputs": [
    {
     "name": "stdout",
     "output_type": "stream",
     "text": [
      "22.6 ms ± 1.74 ms per loop (mean ± std. dev. of 7 runs, 10 loops each)\n"
     ]
    }
   ],
   "source": [
    "%%timeit\n",
    "data['signal'] = data.Close.reindex(pd.date_range(data.index[0], data.index[-1], freq='M')).gt(0).replace(False,-1).reindex(pd.date_range(data.index[0], data.index[-1], freq='D')).bfill().reindex(data.index)"
   ]
  },
  {
   "cell_type": "code",
   "execution_count": 34,
   "metadata": {
    "ExecuteTime": {
     "end_time": "2020-02-09T20:30:55.794640Z",
     "start_time": "2020-02-09T20:30:55.788006Z"
    }
   },
   "outputs": [
    {
     "data": {
      "text/plain": [
       "Date\n",
       "1927-12-30   -1.0\n",
       "1928-01-03    1.0\n",
       "1928-01-04    1.0\n",
       "1928-01-05    1.0\n",
       "1928-01-06    1.0\n",
       "             ... \n",
       "2020-02-03    NaN\n",
       "2020-02-04    NaN\n",
       "2020-02-05    NaN\n",
       "2020-02-06    NaN\n",
       "2020-02-07    NaN\n",
       "Name: signal, Length: 23135, dtype: float64"
      ]
     },
     "execution_count": 34,
     "metadata": {},
     "output_type": "execute_result"
    }
   ],
   "source": [
    "data['signal']"
   ]
  },
  {
   "cell_type": "code",
   "execution_count": 357,
   "metadata": {},
   "outputs": [
    {
     "data": {
      "text/plain": [
       "Date\n",
       "2020-01-27    1.0\n",
       "2020-01-28    1.0\n",
       "2020-01-29    1.0\n",
       "2020-01-30    1.0\n",
       "2020-01-31    1.0\n",
       "2020-02-03    NaN\n",
       "2020-02-04    NaN\n",
       "2020-02-05    NaN\n",
       "2020-02-06    NaN\n",
       "2020-02-07    NaN\n",
       "Name: signal, dtype: float64"
      ]
     },
     "execution_count": 357,
     "metadata": {},
     "output_type": "execute_result"
    }
   ],
   "source": [
    "data['signal'].tail(10)"
   ]
  },
  {
   "cell_type": "code",
   "execution_count": null,
   "metadata": {},
   "outputs": [],
   "source": []
  }
 ],
 "metadata": {
  "hide_input": false,
  "kernelspec": {
   "display_name": "python372",
   "language": "python",
   "name": "python372"
  },
  "language_info": {
   "codemirror_mode": {
    "name": "ipython",
    "version": 3
   },
   "file_extension": ".py",
   "mimetype": "text/x-python",
   "name": "python",
   "nbconvert_exporter": "python",
   "pygments_lexer": "ipython3",
   "version": "3.7.2"
  },
  "latex_envs": {
   "LaTeX_envs_menu_present": true,
   "autoclose": false,
   "autocomplete": true,
   "bibliofile": "biblio.bib",
   "cite_by": "apalike",
   "current_citInitial": 1,
   "eqLabelWithNumbers": true,
   "eqNumInitial": 1,
   "hotkeys": {
    "equation": "Ctrl-E",
    "itemize": "Ctrl-I"
   },
   "labels_anchors": false,
   "latex_user_defs": false,
   "report_style_numbering": false,
   "user_envs_cfg": false
  },
  "toc": {
   "base_numbering": 1,
   "nav_menu": {},
   "number_sections": true,
   "sideBar": true,
   "skip_h1_title": false,
   "title_cell": "Tabla de Contenido",
   "title_sidebar": "Contenidos",
   "toc_cell": false,
   "toc_position": {},
   "toc_section_display": true,
   "toc_window_display": false
  }
 },
 "nbformat": 4,
 "nbformat_minor": 2
}
